{
 "cells": [
  {
   "cell_type": "code",
   "execution_count": 1,
   "metadata": {},
   "outputs": [],
   "source": [
    "# get headers\n",
    "from headers import *\n",
    "from trulia.trulia_search import *\n",
    "from trulia.trulia import *\n",
    "\n",
    "headers = Headers()\n",
    "proxies = Proxies()"
   ]
  },
  {
   "cell_type": "code",
   "execution_count": 2,
   "metadata": {},
   "outputs": [
    {
     "name": "stdout",
     "output_type": "stream",
     "text": [
      "Total of 4 pages from https://www.trulia.com/sold/Montclair,CA/\n"
     ]
    }
   ],
   "source": [
    "# Step 1: get all of the pages of listings in an area\n",
    "\n",
    "pages = get_page_urls('https://www.trulia.com/sold/Montclair,CA/',\n",
    "                       header = headers.get(),\n",
    "                       proxy = proxies.get())"
   ]
  },
  {
   "cell_type": "code",
   "execution_count": 4,
   "metadata": {},
   "outputs": [
    {
     "name": "stdout",
     "output_type": "stream",
     "text": [
      "40 property links scraped from https://www.trulia.com/sold/Montclair,CA/\n",
      "40 property links scraped from https://www.trulia.com/sold/Montclair,CA/2_p/\n",
      "40 property links scraped from https://www.trulia.com/sold/Montclair,CA/3_p/\n",
      "16 property links scraped from https://www.trulia.com/sold/Montclair,CA/4_p/\n"
     ]
    }
   ],
   "source": [
    "links = []\n",
    "\n",
    "for page in pages:\n",
    "    links.append(get_house_links(page, headers.get(), proxies.get()))"
   ]
  },
  {
   "cell_type": "code",
   "execution_count": 5,
   "metadata": {},
   "outputs": [],
   "source": [
    "links = [link for sublist in links if sublist for link in sublist]"
   ]
  },
  {
   "cell_type": "code",
   "execution_count": 15,
   "metadata": {},
   "outputs": [],
   "source": [
    "def get_info(url):\n",
    "    header = headers.get()\n",
    "\n",
    "    property_page = get_page(url, header = header)\n",
    "    if property_page:\n",
    "        return get_clean_data(parse_page(property_page))"
   ]
  },
  {
   "cell_type": "code",
   "execution_count": 16,
   "metadata": {},
   "outputs": [
    {
     "name": "stdout",
     "output_type": "stream",
     "text": [
      "REQUEST SUCCESSFUL\n",
      "UNSUCCESSFULLY PARSED PAGE\n",
      "REQUEST SUCCESSFUL\n",
      "UNSUCCESSFULLY PARSED PAGE\n",
      "REQUEST SUCCESSFUL\n",
      "UNSUCCESSFULLY PARSED PAGE\n",
      "REQUEST SUCCESSFUL\n",
      "UNSUCCESSFULLY PARSED PAGE\n",
      "REQUEST SUCCESSFUL\n",
      "UNSUCCESSFULLY PARSED PAGE\n",
      "REQUEST SUCCESSFUL\n",
      "UNSUCCESSFULLY PARSED PAGE\n",
      "REQUEST SUCCESSFUL\n",
      "UNSUCCESSFULLY PARSED PAGE\n",
      "REQUEST SUCCESSFUL\n",
      "UNSUCCESSFULLY PARSED PAGE\n"
     ]
    },
    {
     "ename": "KeyboardInterrupt",
     "evalue": "",
     "output_type": "error",
     "traceback": [
      "\u001b[0;31m---------------------------------------------------------------------------\u001b[0m",
      "\u001b[0;31mKeyboardInterrupt\u001b[0m                         Traceback (most recent call last)",
      "Cell \u001b[0;32mIn[16], line 4\u001b[0m\n\u001b[1;32m      1\u001b[0m results \u001b[39m=\u001b[39m []\n\u001b[1;32m      3\u001b[0m \u001b[39mfor\u001b[39;00m link \u001b[39min\u001b[39;00m links:\n\u001b[0;32m----> 4\u001b[0m     property_info \u001b[39m=\u001b[39m get_info(link)\n\u001b[1;32m      5\u001b[0m     results\u001b[39m.\u001b[39mappend(property_info)\n",
      "Cell \u001b[0;32mIn[15], line 4\u001b[0m, in \u001b[0;36mget_info\u001b[0;34m(url)\u001b[0m\n\u001b[1;32m      1\u001b[0m \u001b[39mdef\u001b[39;00m \u001b[39mget_info\u001b[39m(url):\n\u001b[1;32m      2\u001b[0m     header \u001b[39m=\u001b[39m headers\u001b[39m.\u001b[39mget()\n\u001b[0;32m----> 4\u001b[0m     property_page \u001b[39m=\u001b[39m get_page(url, header \u001b[39m=\u001b[39;49m header)\n\u001b[1;32m      5\u001b[0m     \u001b[39mif\u001b[39;00m property_page:\n\u001b[1;32m      6\u001b[0m         \u001b[39mreturn\u001b[39;00m get_clean_data(parse_page(property_page))\n",
      "File \u001b[0;32m~/realestate/trulia.py:13\u001b[0m, in \u001b[0;36mget_page\u001b[0;34m(url, header, proxy)\u001b[0m\n\u001b[1;32m     12\u001b[0m \u001b[39mdef\u001b[39;00m \u001b[39mget_page\u001b[39m(url: \u001b[39mstr\u001b[39m, header: \u001b[39mdict\u001b[39m, proxy: Optional[\u001b[39mstr\u001b[39m] \u001b[39m=\u001b[39m \u001b[39mNone\u001b[39;00m) \u001b[39m-\u001b[39m\u001b[39m>\u001b[39m Optional[\u001b[39mbytes\u001b[39m]:\n\u001b[0;32m---> 13\u001b[0m     sleep(uniform(\u001b[39m0.001\u001b[39;49m,\u001b[39m3\u001b[39;49m))\n\u001b[1;32m     14\u001b[0m     \u001b[39mtry\u001b[39;00m:\n\u001b[1;32m     15\u001b[0m         response \u001b[39m=\u001b[39m get(url\u001b[39m=\u001b[39murl, headers\u001b[39m=\u001b[39mheader, proxies\u001b[39m=\u001b[39m{\u001b[39m\"\u001b[39m\u001b[39mhttp\u001b[39m\u001b[39m\"\u001b[39m: proxy, \u001b[39m\"\u001b[39m\u001b[39mhttps:\u001b[39m\u001b[39m\"\u001b[39m: proxy})\n",
      "\u001b[0;31mKeyboardInterrupt\u001b[0m: "
     ]
    }
   ],
   "source": [
    "results = []\n",
    "\n",
    "for link in links:\n",
    "    property_info = get_info(link)\n",
    "    results.append(property_info)"
   ]
  },
  {
   "cell_type": "code",
   "execution_count": 11,
   "metadata": {},
   "outputs": [],
   "source": [
    "results = [result for result in results if result]"
   ]
  },
  {
   "cell_type": "code",
   "execution_count": 24,
   "metadata": {},
   "outputs": [
    {
     "name": "stdout",
     "output_type": "stream",
     "text": [
      "SUCCESS\n",
      "SUCCESS\n",
      "SUCCESS\n",
      "SUCCESS\n",
      "SUCCESS\n",
      "SUCCESS\n",
      "SUCCESS\n",
      "SUCCESS\n",
      "SUCCESS\n",
      "SUCCESS\n",
      "SUCCESS\n",
      "SUCCESS\n",
      "SUCCESS\n",
      "SUCCESS\n",
      "SUCCESS\n",
      "SUCCESS\n",
      "SUCCESS\n",
      "SUCCESS\n",
      "SUCCESS\n",
      "SUCCESS\n",
      "SUCCESS\n",
      "SUCCESS\n",
      "SUCCESS\n",
      "SUCCESS\n",
      "SUCCESS\n",
      "SUCCESS\n",
      "SUCCESS\n",
      "SUCCESS\n",
      "SUCCESS\n",
      "SUCCESS\n",
      "SUCCESS\n",
      "SUCCESS\n",
      "SUCCESS\n",
      "SUCCESS\n",
      "SUCCESS\n",
      "SUCCESS\n",
      "SUCCESS\n",
      "SUCCESS\n",
      "SUCCESS\n",
      "SUCCESS\n",
      "SUCCESS\n",
      "SUCCESS\n",
      "SUCCESS\n",
      "SUCCESS\n",
      "SUCCESS\n",
      "SUCCESS\n",
      "SUCCESS\n",
      "SUCCESS\n",
      "SUCCESS\n",
      "SUCCESS\n",
      "SUCCESS\n",
      "SUCCESS\n",
      "SUCCESS\n",
      "SUCCESS\n",
      "SUCCESS\n",
      "SUCCESS\n",
      "SUCCESS\n",
      "SUCCESS\n",
      "SUCCESS\n",
      "SUCCESS\n",
      "SUCCESS\n",
      "SUCCESS\n",
      "SUCCESS\n",
      "SUCCESS\n",
      "SUCCESS\n",
      "SUCCESS\n",
      "SUCCESS\n",
      "SUCCESS\n",
      "SUCCESS\n",
      "SUCCESS\n",
      "SUCCESS\n",
      "SUCCESS\n",
      "SUCCESS\n",
      "SUCCESSSUCCESS\n",
      "\n",
      "SUCCESS\n",
      "SUCCESS\n",
      "SUCCESS\n",
      "SUCCESS\n",
      "SUCCESS\n",
      "SUCCESS\n",
      "SUCCESS\n",
      "SUCCESS\n",
      "SUCCESS\n",
      "SUCCESS\n",
      "SUCCESS\n",
      "SUCCESS\n",
      "SUCCESS\n",
      "SUCCESS\n",
      "SUCCESS\n",
      "SUCCESS\n",
      "SUCCESS\n",
      "SUCCESS\n",
      "SUCCESS\n",
      "SUCCESS\n",
      "SUCCESS\n",
      "SUCCESS\n",
      "SUCCESS\n",
      "SUCCESS\n",
      "SUCCESS\n",
      "SUCCESS\n",
      "SUCCESS\n",
      "SUCCESS\n",
      "SUCCESS\n",
      "SUCCESS\n",
      "SUCCESS\n",
      "SUCCESS\n",
      "SUCCESS\n",
      "SUCCESS\n",
      "SUCCESS\n",
      "SUCCESS\n",
      "SUCCESS\n",
      "SUCCESS\n",
      "SUCCESS\n",
      "SUCCESS\n",
      "SUCCESS\n",
      "SUCCESS\n",
      "SUCCESS\n",
      "SUCCESS\n",
      "SUCCESS\n",
      "SUCCESS\n",
      "SUCCESS\n",
      "SUCCESS\n",
      "SUCCESS\n",
      "SUCCESS\n",
      "SUCCESS\n",
      "SUCCESS\n",
      "SUCCESS\n",
      "SUCCESS\n",
      "SUCCESS\n",
      "SUCCESS\n",
      "SUCCESS\n",
      "SUCCESS\n",
      "SUCCESS\n",
      "SUCCESS\n"
     ]
    },
    {
     "ename": "IndexError",
     "evalue": "list index out of range",
     "output_type": "error",
     "traceback": [
      "\u001b[0;31m---------------------------------------------------------------------------\u001b[0m",
      "\u001b[0;31mIndexError\u001b[0m                                Traceback (most recent call last)",
      "Cell \u001b[0;32mIn[24], line 9\u001b[0m\n\u001b[1;32m      5\u001b[0m     x \u001b[39m=\u001b[39m executor\u001b[39m.\u001b[39mmap(get_info, links, repeat(headers\u001b[39m.\u001b[39mget()), repeat(proxies\u001b[39m.\u001b[39mget()))\n\u001b[1;32m      7\u001b[0m results \u001b[39m=\u001b[39m []\n\u001b[0;32m----> 9\u001b[0m \u001b[39mfor\u001b[39;00m d \u001b[39min\u001b[39;00m x:\n\u001b[1;32m     10\u001b[0m     results\u001b[39m.\u001b[39mappend(d)\n",
      "File \u001b[0;32m/opt/miniconda3/envs/project/lib/python3.10/concurrent/futures/_base.py:621\u001b[0m, in \u001b[0;36mExecutor.map.<locals>.result_iterator\u001b[0;34m()\u001b[0m\n\u001b[1;32m    618\u001b[0m \u001b[39mwhile\u001b[39;00m fs:\n\u001b[1;32m    619\u001b[0m     \u001b[39m# Careful not to keep a reference to the popped future\u001b[39;00m\n\u001b[1;32m    620\u001b[0m     \u001b[39mif\u001b[39;00m timeout \u001b[39mis\u001b[39;00m \u001b[39mNone\u001b[39;00m:\n\u001b[0;32m--> 621\u001b[0m         \u001b[39myield\u001b[39;00m _result_or_cancel(fs\u001b[39m.\u001b[39;49mpop())\n\u001b[1;32m    622\u001b[0m     \u001b[39melse\u001b[39;00m:\n\u001b[1;32m    623\u001b[0m         \u001b[39myield\u001b[39;00m _result_or_cancel(fs\u001b[39m.\u001b[39mpop(), end_time \u001b[39m-\u001b[39m time\u001b[39m.\u001b[39mmonotonic())\n",
      "File \u001b[0;32m/opt/miniconda3/envs/project/lib/python3.10/concurrent/futures/_base.py:319\u001b[0m, in \u001b[0;36m_result_or_cancel\u001b[0;34m(***failed resolving arguments***)\u001b[0m\n\u001b[1;32m    317\u001b[0m \u001b[39mtry\u001b[39;00m:\n\u001b[1;32m    318\u001b[0m     \u001b[39mtry\u001b[39;00m:\n\u001b[0;32m--> 319\u001b[0m         \u001b[39mreturn\u001b[39;00m fut\u001b[39m.\u001b[39;49mresult(timeout)\n\u001b[1;32m    320\u001b[0m     \u001b[39mfinally\u001b[39;00m:\n\u001b[1;32m    321\u001b[0m         fut\u001b[39m.\u001b[39mcancel()\n",
      "File \u001b[0;32m/opt/miniconda3/envs/project/lib/python3.10/concurrent/futures/_base.py:451\u001b[0m, in \u001b[0;36mFuture.result\u001b[0;34m(self, timeout)\u001b[0m\n\u001b[1;32m    449\u001b[0m     \u001b[39mraise\u001b[39;00m CancelledError()\n\u001b[1;32m    450\u001b[0m \u001b[39melif\u001b[39;00m \u001b[39mself\u001b[39m\u001b[39m.\u001b[39m_state \u001b[39m==\u001b[39m FINISHED:\n\u001b[0;32m--> 451\u001b[0m     \u001b[39mreturn\u001b[39;00m \u001b[39mself\u001b[39;49m\u001b[39m.\u001b[39;49m__get_result()\n\u001b[1;32m    453\u001b[0m \u001b[39mself\u001b[39m\u001b[39m.\u001b[39m_condition\u001b[39m.\u001b[39mwait(timeout)\n\u001b[1;32m    455\u001b[0m \u001b[39mif\u001b[39;00m \u001b[39mself\u001b[39m\u001b[39m.\u001b[39m_state \u001b[39min\u001b[39;00m [CANCELLED, CANCELLED_AND_NOTIFIED]:\n",
      "File \u001b[0;32m/opt/miniconda3/envs/project/lib/python3.10/concurrent/futures/_base.py:403\u001b[0m, in \u001b[0;36mFuture.__get_result\u001b[0;34m(self)\u001b[0m\n\u001b[1;32m    401\u001b[0m \u001b[39mif\u001b[39;00m \u001b[39mself\u001b[39m\u001b[39m.\u001b[39m_exception:\n\u001b[1;32m    402\u001b[0m     \u001b[39mtry\u001b[39;00m:\n\u001b[0;32m--> 403\u001b[0m         \u001b[39mraise\u001b[39;00m \u001b[39mself\u001b[39m\u001b[39m.\u001b[39m_exception\n\u001b[1;32m    404\u001b[0m     \u001b[39mfinally\u001b[39;00m:\n\u001b[1;32m    405\u001b[0m         \u001b[39m# Break a reference cycle with the exception in self._exception\u001b[39;00m\n\u001b[1;32m    406\u001b[0m         \u001b[39mself\u001b[39m \u001b[39m=\u001b[39m \u001b[39mNone\u001b[39;00m\n",
      "File \u001b[0;32m/opt/miniconda3/envs/project/lib/python3.10/concurrent/futures/thread.py:58\u001b[0m, in \u001b[0;36m_WorkItem.run\u001b[0;34m(self)\u001b[0m\n\u001b[1;32m     55\u001b[0m     \u001b[39mreturn\u001b[39;00m\n\u001b[1;32m     57\u001b[0m \u001b[39mtry\u001b[39;00m:\n\u001b[0;32m---> 58\u001b[0m     result \u001b[39m=\u001b[39m \u001b[39mself\u001b[39;49m\u001b[39m.\u001b[39;49mfn(\u001b[39m*\u001b[39;49m\u001b[39mself\u001b[39;49m\u001b[39m.\u001b[39;49margs, \u001b[39m*\u001b[39;49m\u001b[39m*\u001b[39;49m\u001b[39mself\u001b[39;49m\u001b[39m.\u001b[39;49mkwargs)\n\u001b[1;32m     59\u001b[0m \u001b[39mexcept\u001b[39;00m \u001b[39mBaseException\u001b[39;00m \u001b[39mas\u001b[39;00m exc:\n\u001b[1;32m     60\u001b[0m     \u001b[39mself\u001b[39m\u001b[39m.\u001b[39mfuture\u001b[39m.\u001b[39mset_exception(exc)\n",
      "Cell \u001b[0;32mIn[4], line 5\u001b[0m, in \u001b[0;36mget_info\u001b[0;34m(url, header, proxy)\u001b[0m\n\u001b[1;32m      3\u001b[0m property_page \u001b[39m=\u001b[39m get_page(url, header \u001b[39m=\u001b[39m header, proxy \u001b[39m=\u001b[39m proxy)\n\u001b[1;32m      4\u001b[0m \u001b[39mif\u001b[39;00m property_page:\n\u001b[0;32m----> 5\u001b[0m     \u001b[39mreturn\u001b[39;00m get_clean_data(parse_page(property_page))\n",
      "File \u001b[0;32m~/realestate/trulia.py:35\u001b[0m, in \u001b[0;36mparse_page\u001b[0;34m(page)\u001b[0m\n\u001b[1;32m     29\u001b[0m \u001b[39m\u001b[39m\u001b[39m'''\u001b[39;00m\n\u001b[1;32m     30\u001b[0m \u001b[39mUses beautifulsoup to parse the page and gets the #__NEXT_DATA__ contents\u001b[39;00m\n\u001b[1;32m     31\u001b[0m \u001b[39mwhich is basically all of the fetched data is placed in the HTML file\u001b[39;00m\n\u001b[1;32m     32\u001b[0m \u001b[39min a JSON format\u001b[39;00m\n\u001b[1;32m     33\u001b[0m \u001b[39m'''\u001b[39;00m\n\u001b[1;32m     34\u001b[0m soup \u001b[39m=\u001b[39m BeautifulSoup(page, \u001b[39m'\u001b[39m\u001b[39mlxml\u001b[39m\u001b[39m'\u001b[39m)\u001b[39m.\u001b[39mselect(\u001b[39m\"\u001b[39m\u001b[39m#__NEXT_DATA__\u001b[39m\u001b[39m\"\u001b[39m)\n\u001b[0;32m---> 35\u001b[0m \u001b[39mif\u001b[39;00m soup[\u001b[39m0\u001b[39;49m]:\n\u001b[1;32m     36\u001b[0m     data \u001b[39m=\u001b[39m loads(soup[\u001b[39m0\u001b[39m]\u001b[39m.\u001b[39mgetText())[\u001b[39m'\u001b[39m\u001b[39mprops\u001b[39m\u001b[39m'\u001b[39m][\u001b[39m'\u001b[39m\u001b[39mhomeDetails\u001b[39m\u001b[39m'\u001b[39m]\n\u001b[1;32m     37\u001b[0m     \u001b[39mreturn\u001b[39;00m data\n",
      "\u001b[0;31mIndexError\u001b[0m: list index out of range"
     ]
    }
   ],
   "source": [
    "import concurrent.futures\n",
    "from itertools import repeat\n",
    "\n",
    "with concurrent.futures.ThreadPoolExecutor() as executor:\n",
    "    x = executor.map(get_info, links, repeat(headers.get()), repeat(proxies.get()))\n",
    "\n",
    "results = []\n",
    "\n",
    "for d in x:\n",
    "    results.append(d)"
   ]
  },
  {
   "cell_type": "code",
   "execution_count": 4,
   "metadata": {},
   "outputs": [
    {
     "ename": "KeyError",
     "evalue": "4",
     "output_type": "error",
     "traceback": [
      "\u001b[0;31m---------------------------------------------------------------------------\u001b[0m",
      "\u001b[0;31mKeyError\u001b[0m                                  Traceback (most recent call last)",
      "Cell \u001b[0;32mIn[4], line 10\u001b[0m\n\u001b[1;32m      5\u001b[0m     x \u001b[39m=\u001b[39m executor\u001b[39m.\u001b[39mmap(get_house_links, pages, headers, proxies)\n\u001b[1;32m      8\u001b[0m results \u001b[39m=\u001b[39m []\n\u001b[0;32m---> 10\u001b[0m \u001b[39mfor\u001b[39;00m d \u001b[39min\u001b[39;00m x:\n\u001b[1;32m     11\u001b[0m     results\u001b[39m.\u001b[39mappend(d)\n\u001b[1;32m     13\u001b[0m links \u001b[39m=\u001b[39m [i \u001b[39mfor\u001b[39;00m row \u001b[39min\u001b[39;00m results \u001b[39mfor\u001b[39;00m i \u001b[39min\u001b[39;00m row]\n",
      "File \u001b[0;32m/opt/miniconda3/envs/project/lib/python3.10/concurrent/futures/_base.py:621\u001b[0m, in \u001b[0;36mExecutor.map.<locals>.result_iterator\u001b[0;34m()\u001b[0m\n\u001b[1;32m    618\u001b[0m \u001b[39mwhile\u001b[39;00m fs:\n\u001b[1;32m    619\u001b[0m     \u001b[39m# Careful not to keep a reference to the popped future\u001b[39;00m\n\u001b[1;32m    620\u001b[0m     \u001b[39mif\u001b[39;00m timeout \u001b[39mis\u001b[39;00m \u001b[39mNone\u001b[39;00m:\n\u001b[0;32m--> 621\u001b[0m         \u001b[39myield\u001b[39;00m _result_or_cancel(fs\u001b[39m.\u001b[39;49mpop())\n\u001b[1;32m    622\u001b[0m     \u001b[39melse\u001b[39;00m:\n\u001b[1;32m    623\u001b[0m         \u001b[39myield\u001b[39;00m _result_or_cancel(fs\u001b[39m.\u001b[39mpop(), end_time \u001b[39m-\u001b[39m time\u001b[39m.\u001b[39mmonotonic())\n",
      "File \u001b[0;32m/opt/miniconda3/envs/project/lib/python3.10/concurrent/futures/_base.py:319\u001b[0m, in \u001b[0;36m_result_or_cancel\u001b[0;34m(***failed resolving arguments***)\u001b[0m\n\u001b[1;32m    317\u001b[0m \u001b[39mtry\u001b[39;00m:\n\u001b[1;32m    318\u001b[0m     \u001b[39mtry\u001b[39;00m:\n\u001b[0;32m--> 319\u001b[0m         \u001b[39mreturn\u001b[39;00m fut\u001b[39m.\u001b[39;49mresult(timeout)\n\u001b[1;32m    320\u001b[0m     \u001b[39mfinally\u001b[39;00m:\n\u001b[1;32m    321\u001b[0m         fut\u001b[39m.\u001b[39mcancel()\n",
      "File \u001b[0;32m/opt/miniconda3/envs/project/lib/python3.10/concurrent/futures/_base.py:451\u001b[0m, in \u001b[0;36mFuture.result\u001b[0;34m(self, timeout)\u001b[0m\n\u001b[1;32m    449\u001b[0m     \u001b[39mraise\u001b[39;00m CancelledError()\n\u001b[1;32m    450\u001b[0m \u001b[39melif\u001b[39;00m \u001b[39mself\u001b[39m\u001b[39m.\u001b[39m_state \u001b[39m==\u001b[39m FINISHED:\n\u001b[0;32m--> 451\u001b[0m     \u001b[39mreturn\u001b[39;00m \u001b[39mself\u001b[39;49m\u001b[39m.\u001b[39;49m__get_result()\n\u001b[1;32m    453\u001b[0m \u001b[39mself\u001b[39m\u001b[39m.\u001b[39m_condition\u001b[39m.\u001b[39mwait(timeout)\n\u001b[1;32m    455\u001b[0m \u001b[39mif\u001b[39;00m \u001b[39mself\u001b[39m\u001b[39m.\u001b[39m_state \u001b[39min\u001b[39;00m [CANCELLED, CANCELLED_AND_NOTIFIED]:\n",
      "File \u001b[0;32m/opt/miniconda3/envs/project/lib/python3.10/concurrent/futures/_base.py:403\u001b[0m, in \u001b[0;36mFuture.__get_result\u001b[0;34m(self)\u001b[0m\n\u001b[1;32m    401\u001b[0m \u001b[39mif\u001b[39;00m \u001b[39mself\u001b[39m\u001b[39m.\u001b[39m_exception:\n\u001b[1;32m    402\u001b[0m     \u001b[39mtry\u001b[39;00m:\n\u001b[0;32m--> 403\u001b[0m         \u001b[39mraise\u001b[39;00m \u001b[39mself\u001b[39m\u001b[39m.\u001b[39m_exception\n\u001b[1;32m    404\u001b[0m     \u001b[39mfinally\u001b[39;00m:\n\u001b[1;32m    405\u001b[0m         \u001b[39m# Break a reference cycle with the exception in self._exception\u001b[39;00m\n\u001b[1;32m    406\u001b[0m         \u001b[39mself\u001b[39m \u001b[39m=\u001b[39m \u001b[39mNone\u001b[39;00m\n",
      "File \u001b[0;32m/opt/miniconda3/envs/project/lib/python3.10/concurrent/futures/thread.py:58\u001b[0m, in \u001b[0;36m_WorkItem.run\u001b[0;34m(self)\u001b[0m\n\u001b[1;32m     55\u001b[0m     \u001b[39mreturn\u001b[39;00m\n\u001b[1;32m     57\u001b[0m \u001b[39mtry\u001b[39;00m:\n\u001b[0;32m---> 58\u001b[0m     result \u001b[39m=\u001b[39m \u001b[39mself\u001b[39;49m\u001b[39m.\u001b[39;49mfn(\u001b[39m*\u001b[39;49m\u001b[39mself\u001b[39;49m\u001b[39m.\u001b[39;49margs, \u001b[39m*\u001b[39;49m\u001b[39m*\u001b[39;49m\u001b[39mself\u001b[39;49m\u001b[39m.\u001b[39;49mkwargs)\n\u001b[1;32m     59\u001b[0m \u001b[39mexcept\u001b[39;00m \u001b[39mBaseException\u001b[39;00m \u001b[39mas\u001b[39;00m exc:\n\u001b[1;32m     60\u001b[0m     \u001b[39mself\u001b[39m\u001b[39m.\u001b[39mfuture\u001b[39m.\u001b[39mset_exception(exc)\n",
      "File \u001b[0;32m~/realestate/trulia_search.py:14\u001b[0m, in \u001b[0;36mget_house_links\u001b[0;34m(area_url, headers, proxies)\u001b[0m\n\u001b[1;32m     10\u001b[0m \u001b[39mdef\u001b[39;00m \u001b[39mget_house_links\u001b[39m(area_url : \u001b[39mstr\u001b[39m, headers : \u001b[39mlist\u001b[39m, proxies : \u001b[39mlist\u001b[39m):\n\u001b[1;32m     11\u001b[0m \u001b[39m    \u001b[39m\u001b[39m'''\u001b[39;00m\n\u001b[1;32m     12\u001b[0m \u001b[39m    This function returns a list of urls of all the properties on a page\u001b[39;00m\n\u001b[1;32m     13\u001b[0m \u001b[39m    '''\u001b[39;00m\n\u001b[0;32m---> 14\u001b[0m     response \u001b[39m=\u001b[39m get(url \u001b[39m=\u001b[39m area_url, headers \u001b[39m=\u001b[39m get_random_header(headers), proxies \u001b[39m=\u001b[39m {\u001b[39m'\u001b[39m\u001b[39mhttp\u001b[39m\u001b[39m'\u001b[39m : get_random_proxy(proxies),\u001b[39m'\u001b[39m\u001b[39mhttps:\u001b[39m\u001b[39m'\u001b[39m : get_random_proxy(proxies)})\n\u001b[1;32m     16\u001b[0m     \u001b[39mif\u001b[39;00m response\u001b[39m.\u001b[39mstatus_code \u001b[39m==\u001b[39m \u001b[39m200\u001b[39m:\n\u001b[1;32m     17\u001b[0m         soup \u001b[39m=\u001b[39m BeautifulSoup(response\u001b[39m.\u001b[39mcontent, \u001b[39m'\u001b[39m\u001b[39mlxml\u001b[39m\u001b[39m'\u001b[39m)\u001b[39m.\u001b[39mselect(\u001b[39m\"\u001b[39m\u001b[39m#__NEXT_DATA__\u001b[39m\u001b[39m\"\u001b[39m)\n",
      "File \u001b[0;32m~/realestate/headers.py:23\u001b[0m, in \u001b[0;36mget_random_header\u001b[0;34m(headers_list)\u001b[0m\n\u001b[1;32m     19\u001b[0m \u001b[39mdef\u001b[39;00m \u001b[39mget_random_header\u001b[39m(headers_list : \u001b[39mlist\u001b[39m):\n\u001b[1;32m     21\u001b[0m     rand_number \u001b[39m=\u001b[39m random\u001b[39m.\u001b[39mrandint(\u001b[39m0\u001b[39m,\u001b[39mlen\u001b[39m(headers_list) \u001b[39m-\u001b[39m \u001b[39m1\u001b[39m)\n\u001b[0;32m---> 23\u001b[0m     \u001b[39mreturn\u001b[39;00m headers_list[rand_number]\n",
      "\u001b[0;31mKeyError\u001b[0m: 4"
     ]
    }
   ],
   "source": [
    "results = []\n",
    "with concurrent.futures.ThreadPoolExecutor() as executor:\n",
    "    x = executor.map(get_house_links, pages, headers, proxies)\n",
    "\n",
    "\n",
    "results = []\n",
    "\n",
    "for d in x:\n",
    "    results.append(d)\n",
    "\n",
    "links = [i for row in results for i in row]"
   ]
  },
  {
   "cell_type": "code",
   "execution_count": 1,
   "metadata": {},
   "outputs": [],
   "source": [
    "from requests import get, Session\n",
    "from bs4 import BeautifulSoup\n",
    "from json import loads\n",
    "from html import unescape\n",
    "from typing import Optional\n",
    "from headers import *\n",
    "import sqlite3\n",
    "from datetime import datetime\n",
    "\n",
    "headers = Headers()"
   ]
  },
  {
   "cell_type": "code",
   "execution_count": 12,
   "metadata": {},
   "outputs": [],
   "source": [
    "from zillow.zillow import *"
   ]
  },
  {
   "cell_type": "code",
   "execution_count": 7,
   "metadata": {},
   "outputs": [],
   "source": [
    "la_zips = [90011,90650,91331,90044,90201,90250,90805,90280,91342,91744,93550,90706]"
   ]
  },
  {
   "cell_type": "code",
   "execution_count": 8,
   "metadata": {},
   "outputs": [
    {
     "name": "stdout",
     "output_type": "stream",
     "text": [
      "3 from https://www.zillow.com/90011\n",
      "16 from https://www.zillow.com/90011/sold\n",
      "Ingested 752 properties into zillow_data.db\n",
      "2 from https://www.zillow.com/90650\n",
      "20 from https://www.zillow.com/90650/sold\n",
      "Ingested 865 properties into zillow_data.db\n",
      "2 from https://www.zillow.com/91331\n",
      "1 from https://www.zillow.com/91331/sold\n",
      "Ingested 43 properties into zillow_data.db\n",
      "3 from https://www.zillow.com/90044\n",
      "20 from https://www.zillow.com/90044/sold\n",
      "Ingested 928 properties into zillow_data.db\n",
      "1 from https://www.zillow.com/90201\n",
      "11 from https://www.zillow.com/90201/sold\n",
      "Ingested 449 properties into zillow_data.db\n",
      "2 from https://www.zillow.com/90250\n",
      "20 from https://www.zillow.com/90250/sold\n",
      "Ingested 862 properties into zillow_data.db\n",
      "2 from https://www.zillow.com/90805\n",
      "20 from https://www.zillow.com/90805/sold\n",
      "Ingested 889 properties into zillow_data.db\n",
      "1 from https://www.zillow.com/90280\n",
      "17 from https://www.zillow.com/90280/sold\n",
      "Ingested 693 properties into zillow_data.db\n",
      "3 from https://www.zillow.com/91342\n",
      "20 from https://www.zillow.com/91342/sold\n",
      "Ingested 928 properties into zillow_data.db\n",
      "1 from https://www.zillow.com/91744\n",
      "20 from https://www.zillow.com/91744/sold\n",
      "Ingested 853 properties into zillow_data.db\n",
      "8 from https://www.zillow.com/93550\n",
      "20 from https://www.zillow.com/93550/sold\n",
      "Ingested 1115 properties into zillow_data.db\n",
      "2 from https://www.zillow.com/90706\n",
      "20 from https://www.zillow.com/90706/sold\n",
      "Ingested 874 properties into zillow_data.db\n"
     ]
    }
   ],
   "source": [
    "for i in range(90001,90506):\n",
    "    zillow_zipcode_to_db(zip)"
   ]
  },
  {
   "cell_type": "code",
   "execution_count": 9,
   "metadata": {},
   "outputs": [],
   "source": [
    "import pandas as pd\n",
    "import sqlite3\n",
    "\n",
    "db_file = 'zillow_data.db' \n",
    "conn = sqlite3.connect(db_file)\n",
    "df = pd.read_sql_query(\"SELECT * FROM properties\", conn)\n",
    "conn.close()\n"
   ]
  }
 ],
 "metadata": {
  "kernelspec": {
   "display_name": "base1",
   "language": "python",
   "name": "python3"
  },
  "language_info": {
   "codemirror_mode": {
    "name": "ipython",
    "version": 3
   },
   "file_extension": ".py",
   "mimetype": "text/x-python",
   "name": "python",
   "nbconvert_exporter": "python",
   "pygments_lexer": "ipython3",
   "version": "3.10.14"
  },
  "orig_nbformat": 4
 },
 "nbformat": 4,
 "nbformat_minor": 2
}
